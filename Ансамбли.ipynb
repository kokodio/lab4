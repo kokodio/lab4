{
 "cells": [
  {
   "cell_type": "markdown",
   "id": "3085ec43-34bb-4afb-9515-517e0489db3e",
   "metadata": {},
   "source": [
    "## Ансамбли и полносвязные нейронные сети\n",
    "В этом ноутбуке вам нужно обучить модели на датасете классификации из предыдущего ноутбука и сравнить результаты. Вам будет предоставлен baseline, на основе которого вы будете доделывать предсказывающие модели. Оценка лабы будет зависеть от ROC-AUC на тестовых данных по следующим критериям:\n",
    "\\\n",
    "AUC - на тестовых данных\n",
    "- $AUC \\leq 0.76$ - 0 баллов\n",
    "- $0.76 < AUC \\leq 0.77$ - 2 балла\n",
    "- $0.77 < AUC \\leq 0.78$ - 4 балла\n",
    "- $0.78 < AUC \\leq 0.79$ - 6 баллов\n",
    "- $0.79 < AUC \\leq 0.80$ - 8 баллов\n",
    "- $AUC > 0.80$ - 10 баллов\n"
   ]
  },
  {
   "cell_type": "code",
   "execution_count": null,
   "id": "ec07e3a2-480a-4350-868e-02679ff2aada",
   "metadata": {
    "tags": []
   },
   "outputs": [],
   "source": [
    "from sklearn.ensemble import RandomForestClassifier, GradientBoostingClassifier\n",
    "from sklearn.neural_network import MLPClassifier\n",
    "\n",
    "from sklearn.metrics import roc_auc_score, precision_score, recall_score, roc_curve, accuracy_score\n",
    "\n",
    "from sklearn.model_selection import train_test_split\n",
    "\n",
    "import matplotlib.pyplot as plt\n",
    "import pandas as pd\n",
    "import numpy as np"
   ]
  },
  {
   "cell_type": "code",
   "execution_count": null,
   "id": "563ad31b-5c83-4366-819a-34dad4edecdc",
   "metadata": {
    "tags": []
   },
   "outputs": [],
   "source": [
    "data = pd.read_csv('german.csv', sep=';')\n",
    "print(data.head())\n",
    "\n",
    "X = data.iloc[:, 1:].to_numpy()\n",
    "y = data.iloc[:, 0].to_numpy()\n",
    "\n",
    "X_train, X_test, y_train, y_test = train_test_split(X, y, test_size=0.2, random_state=42)"
   ]
  },
  {
   "cell_type": "code",
   "execution_count": null,
   "id": "f93737ec-e5eb-4d72-8beb-5dba4d4c581f",
   "metadata": {
    "tags": []
   },
   "outputs": [],
   "source": [
    "plt.hist(y_train, bins=2, edgecolor='k')\n",
    "plt.xticks([0, 1])\n",
    "plt.xlabel('Class (0: Non-Creditworthy, 1: Creditworthy)')\n",
    "plt.ylabel('Count')\n",
    "plt.title('Distribution of Classes in Training Data')\n",
    "plt.show()"
   ]
  },
  {
   "cell_type": "code",
   "execution_count": null,
   "id": "0ab4c9c4",
   "metadata": {},
   "outputs": [],
   "source": [
    "from sklearn.utils.discovery import all_estimators\n",
    "print(*all_estimators(type_filter=\"classifier\"))"
   ]
  },
  {
   "cell_type": "code",
   "execution_count": null,
   "id": "e1d20f27",
   "metadata": {},
   "outputs": [],
   "source": [
    "import itertools\n",
    "from IPython.display import clear_output\n",
    "\n",
    "param_grid = {\n",
    "    'criterion' : ['entropy'],\n",
    "    'n_estimators': range(10,13),\n",
    "    'class_weight': ['balanced', 'balanced_subsample'],\n",
    "    'max_depth': range(3,5),\n",
    "    'min_samples_split': range(2,10),\n",
    "    'max_leaf_nodes': range(10,20),\n",
    "}\n",
    "\n",
    "\n",
    "combinations = list(itertools.product(*param_grid.values()))\n",
    "bestParams = ''\n",
    "bestScore = 0\n",
    "\n",
    "for combination in combinations:\n",
    "    params = dict(zip(param_grid.keys(), combination))\n",
    "\n",
    "    \n",
    "    \n",
    "    rf_model = RandomForestClassifier(n_estimators=params['n_estimators'], criterion=params['criterion'], class_weight=params['class_weight'], max_depth=params['max_depth'],min_samples_split=params['min_samples_split'],max_leaf_nodes=params['max_leaf_nodes'],random_state=42)\n",
    "    rf_model.fit(X_train, y_train)\n",
    "\n",
    "    rf_pred = rf_model.predict(X_test)\n",
    "    rf_roc_auc = roc_auc_score(y_test, rf_pred)\n",
    "    print(params)\n",
    "    print(rf_roc_auc)\n",
    "    if (rf_roc_auc > bestScore): \n",
    "        bestParams = params\n",
    "        bestScore = rf_roc_auc\n",
    "print()\n",
    "print(bestParams)\n",
    "print(bestScore)"
   ]
  },
  {
   "cell_type": "code",
   "execution_count": null,
   "id": "d2dca40a",
   "metadata": {},
   "outputs": [],
   "source": [
    "import itertools\n",
    "from IPython.display import clear_output\n",
    "\n",
    "param_grid = {\n",
    "    'learning_rate': [0.005, 0.01, 0.02, 0.05, 0.1, 0.2],\n",
    "    'n_estimators' : range(10,110,10),\n",
    "    'min_weight_fraction_leaf': [i/1000 for i in range(1,300)],\n",
    "    'max_depth':[2],#range(2,10),\n",
    "    'max_features':[9],#range(6,10),\n",
    "    'subsample':[0.8, 0.9]\n",
    "}\n",
    "\n",
    "combinations = list(itertools.product(*param_grid.values()))\n",
    "bestParams = ''\n",
    "bestScore = 0\n",
    "\n",
    "for combination in combinations:\n",
    "    params = dict(zip(param_grid.keys(), combination))\n",
    "\n",
    "    gb_model = GradientBoostingClassifier(learning_rate=params['learning_rate'],n_estimators=params['n_estimators'],min_weight_fraction_leaf=params['min_weight_fraction_leaf'],min_samples_split=params['min_samples_split'],min_samples_leaf=params['min_samples_leaf'],subsample=params['subsample'], max_features=params['max_features'], max_depth=params['max_depth'], random_state=42)\n",
    "    gb_model.fit(X_train, y_train)\n",
    "\n",
    "    gb_pred = gb_model.predict_proba(X_test)[:, 1]\n",
    "    gb_roc_auc = roc_auc_score(y_test, gb_pred)\n",
    "    print(params)\n",
    "    print(gb_roc_auc)\n",
    "    if (gb_roc_auc > bestScore): \n",
    "        bestParams = params\n",
    "        bestScore = gb_roc_auc\n",
    "print()\n",
    "print(bestParams)\n",
    "print(bestScore)"
   ]
  },
  {
   "cell_type": "code",
   "execution_count": 291,
   "id": "c1cf8d00-92a3-4b62-bca4-d854b72574d1",
   "metadata": {
    "tags": []
   },
   "outputs": [
    {
     "name": "stdout",
     "output_type": "stream",
     "text": [
      "Random Forest метрики:\n",
      "ROC AUC: 0.82\n",
      "Accuracy: 0.79\n",
      "Precision: 0.89\n",
      "Recall: 0.79\n",
      "\n",
      "Gradient Boosting метрики:\n",
      "ROC AUC: 0.81\n",
      "Accuracy: 0.77\n",
      "Precision: 0.79\n",
      "Recall: 0.91\n"
     ]
    }
   ],
   "source": [
    "# Обучение Random Forest\n",
    "rf_model = RandomForestClassifier(criterion='entropy', class_weight='balanced_subsample', max_depth=4, n_estimators=11,random_state=42)\n",
    "rf_model.fit(X_train, y_train)\n",
    "\n",
    "# Прогноз на тестовых данных\n",
    "rf_pred = rf_model.predict(X_test)\n",
    "rf_pred_prob = rf_model.predict_proba(X_test)[:, 1]\n",
    "\n",
    "# Расчет метрик для Random Forest\n",
    "rf_roc_auc = roc_auc_score(y_test, rf_pred_prob)\n",
    "rf_accuracy = accuracy_score(y_test, rf_pred)\n",
    "rf_precision = precision_score(y_test, rf_pred)\n",
    "rf_recall = recall_score(y_test, rf_pred)\n",
    "\n",
    "print(\"Random Forest метрики:\")\n",
    "print(f\"ROC AUC: {rf_roc_auc:.2f}\")\n",
    "print(f\"Accuracy: {rf_accuracy:.2f}\")\n",
    "print(f\"Precision: {rf_precision:.2f}\")\n",
    "print(f\"Recall: {rf_recall:.2f}\")\n",
    "\n",
    "# Обучение Gradient Boosting\n",
    "gb_model = GradientBoostingClassifier(n_estimators=40, learning_rate=0.2,min_weight_fraction_leaf=0.135,max_depth=2, max_features=9, subsample=0.8, random_state=42)\n",
    "gb_model.fit(X_train, y_train)\n",
    "\n",
    "# Прогноз на тестовых данных\n",
    "gb_pred = gb_model.predict(X_test)\n",
    "gb_pred_prob = gb_model.predict_proba(X_test)[:, 1]\n",
    "\n",
    "# Расчет метрик для Gradient Boosting\n",
    "gb_roc_auc = roc_auc_score(y_test, gb_pred_prob)\n",
    "gb_accuracy = accuracy_score(y_test, gb_pred)\n",
    "gb_precision = precision_score(y_test, gb_pred)\n",
    "gb_recall = recall_score(y_test, gb_pred)\n",
    "\n",
    "print(\"\\nGradient Boosting метрики:\")\n",
    "print(f\"ROC AUC: {gb_roc_auc:.2f}\")\n",
    "print(f\"Accuracy: {gb_accuracy:.2f}\")\n",
    "print(f\"Precision: {gb_precision:.2f}\")\n",
    "print(f\"Recall: {gb_recall:.2f}\")"
   ]
  },
  {
   "cell_type": "code",
   "execution_count": null,
   "id": "c06acdc7",
   "metadata": {},
   "outputs": [],
   "source": [
    "import itertools\n",
    "from IPython.display import clear_output\n",
    "\n",
    "param_grid = {\n",
    "    'solver': ['lbfgs'],\n",
    "    'max_iter': [900],\n",
    "    'alpha': [10.0 ** -i for i in range(6, 10)],\n",
    "    'hidden_layer_sizes':np.arange(2, 30)\n",
    "}\n",
    "\n",
    "combinations = list(itertools.product(*param_grid.values()))\n",
    "bestParams = ''\n",
    "bestScore = 0\n",
    "\n",
    "for combination in combinations:\n",
    "    params = dict(zip(param_grid.keys(), combination))\n",
    "\n",
    "    gb_model = MLPClassifier(solver=params['solver'],max_iter=params['max_iter'],alpha=params['alpha'],hidden_layer_sizes=params['hidden_layer_sizes'], random_state=42)\n",
    "    gb_model.fit(X_train, y_train)\n",
    "\n",
    "    gb_pred = gb_model.predict_proba(X_test)[:, 1]\n",
    "    gb_roc_auc = roc_auc_score(y_test, gb_pred)\n",
    "    print(params)\n",
    "    print(gb_roc_auc)\n",
    "    if (gb_roc_auc > bestScore): \n",
    "        bestParams = params\n",
    "        bestScore = gb_roc_auc\n",
    "print()\n",
    "print(bestParams)\n",
    "print(bestScore)"
   ]
  },
  {
   "cell_type": "code",
   "execution_count": 290,
   "id": "ae1e040c-ddd0-4952-9dcb-58c1226da40a",
   "metadata": {
    "tags": []
   },
   "outputs": [
    {
     "name": "stdout",
     "output_type": "stream",
     "text": [
      "\n",
      "MLP (Neural Network) метрики:\n",
      "ROC AUC: 0.81\n",
      "Accuracy: 0.77\n",
      "Precision: 0.79\n",
      "Recall: 0.91\n"
     ]
    }
   ],
   "source": [
    "# Обучение MLP (Multi-Layer Perceptron) нейронной сети\n",
    "#{'solver': 'lbfgs', 'max_iter': 900, 'alpha': 1e-07, 'hidden_layer_sizes': 19}\n",
    "mlp_model = MLPClassifier(solver='lbfgs',alpha=1e-07,hidden_layer_sizes=(19,), max_iter=800, random_state=42)\n",
    "mlp_model.fit(X_train, y_train)\n",
    "\n",
    "# Прогноз на тестовых данных\n",
    "mlp_pred = mlp_model.predict(X_test)\n",
    "mlp_pred_prob = mlp_model.predict_proba(X_test)[:, 1]\n",
    "\n",
    "# Расчет метрик для MLP нейронной сети\n",
    "mlp_roc_auc = roc_auc_score(y_test, mlp_pred_prob)\n",
    "mlp_accuracy = accuracy_score(y_test, mlp_pred)\n",
    "mlp_precision = precision_score(y_test, mlp_pred)\n",
    "mlp_recall = recall_score(y_test, mlp_pred)\n",
    "\n",
    "print(\"\\nMLP (Neural Network) метрики:\")\n",
    "print(f\"ROC AUC: {mlp_roc_auc:.2f}\")\n",
    "print(f\"Accuracy: {mlp_accuracy:.2f}\")\n",
    "print(f\"Precision: {mlp_precision:.2f}\")\n",
    "print(f\"Recall: {mlp_recall:.2f}\")"
   ]
  },
  {
   "cell_type": "markdown",
   "id": "d2d6eb00-77fd-40dc-a3c5-35c1fe0200c0",
   "metadata": {},
   "source": [
    "## Экспериментируйте\n",
    "Для получения лучшего качества придется поэкспериментировать. Подсказка: попробуйте оптимизировать гиперпараметры модели"
   ]
  }
 ],
 "metadata": {
  "kernelspec": {
   "display_name": "Python 3 (ipykernel)",
   "language": "python",
   "name": "python3"
  },
  "language_info": {
   "codemirror_mode": {
    "name": "ipython",
    "version": 3
   },
   "file_extension": ".py",
   "mimetype": "text/x-python",
   "name": "python",
   "nbconvert_exporter": "python",
   "pygments_lexer": "ipython3",
   "version": "3.10.14"
  }
 },
 "nbformat": 4,
 "nbformat_minor": 5
}
